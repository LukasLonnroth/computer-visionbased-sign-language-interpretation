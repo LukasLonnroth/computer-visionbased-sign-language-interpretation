{
  "nbformat": 4,
  "nbformat_minor": 0,
  "metadata": {
    "colab": {
      "name": "TF_sign_language_cnn_training.ipynb",
      "provenance": [],
      "collapsed_sections": [],
      "toc_visible": true
    },
    "kernelspec": {
      "name": "python3",
      "display_name": "Python 3"
    },
    "accelerator": "GPU"
  },
  "cells": [
    {
      "cell_type": "markdown",
      "metadata": {
        "id": "Ewe9EVlbEGRW",
        "colab_type": "text"
      },
      "source": [
        "# Swedish sign alphabet recognition \n",
        "Lukas Lönnroth\n",
        "\n",
        "2020\n",
        "\n",
        "\n"
      ]
    },
    {
      "cell_type": "markdown",
      "metadata": {
        "id": "qq2GPqBFjSOZ",
        "colab_type": "text"
      },
      "source": [
        "Mount the drive to witch you have uploaded the corpus to."
      ]
    },
    {
      "cell_type": "code",
      "metadata": {
        "id": "x2_CZs2t4_26",
        "colab_type": "code",
        "colab": {}
      },
      "source": [
        "from google.colab import drive\n",
        "drive.mount('/content/drive', force_remount=True)"
      ],
      "execution_count": 0,
      "outputs": []
    },
    {
      "cell_type": "code",
      "metadata": {
        "id": "eMRNxk4iBlvL",
        "colab_type": "code",
        "colab": {}
      },
      "source": [
        "from zipfile import ZipFile\n",
        "file_name = 'drive/My Drive/train_test.zip'\n",
        "\n",
        "with ZipFile(file_name, 'r')as zip:\n",
        "  zip.extractall()\n",
        "  print('Done')"
      ],
      "execution_count": 0,
      "outputs": []
    },
    {
      "cell_type": "code",
      "metadata": {
        "id": "gaeOUQMHWgCm",
        "colab_type": "code",
        "colab": {}
      },
      "source": [
        "%tensorflow_version 1.x"
      ],
      "execution_count": 0,
      "outputs": []
    },
    {
      "cell_type": "code",
      "metadata": {
        "id": "f1tMF76CoMwV",
        "colab_type": "code",
        "colab": {}
      },
      "source": [
        "import os\n",
        "import tensorflow as tf\n",
        "import os\n",
        "import glob\n",
        "import numpy as np\n",
        "import time\n",
        "from cv2 import cv2\n",
        "import matplotlib.pyplot as plt\n",
        "import pickle\n",
        "\n",
        "import random\n",
        "from tensorflow.python.keras.models import Sequential\n",
        "from tensorflow.python.keras.layers import Dense, Dropout, Activation, Flatten\n",
        "from tensorflow.python.keras.layers import Conv2D, MaxPooling2D\n",
        "from tensorflow.python.keras.callbacks import TensorBoard\n",
        "from tensorflow import keras"
      ],
      "execution_count": 0,
      "outputs": []
    },
    {
      "cell_type": "markdown",
      "metadata": {
        "id": "XtXs4CQw34dm",
        "colab_type": "text"
      },
      "source": [
        "Name the model so that logs are easy to understand"
      ]
    },
    {
      "cell_type": "code",
      "metadata": {
        "id": "KY9WwjSuogdQ",
        "colab_type": "code",
        "colab": {}
      },
      "source": [
        "IMG_SIZE = 64\n",
        "MODE = 'canny'\n",
        "DATA_DIR = 'train_test'\n",
        "NAME = '{}_{}-{}_128drop05_256_512_dense_64_{}'.format(MODE, IMG_SIZE, IMG_SIZE, int(time.time()))"
      ],
      "execution_count": 0,
      "outputs": []
    },
    {
      "cell_type": "code",
      "metadata": {
        "id": "Li1_3yIyo_RD",
        "colab_type": "code",
        "colab": {}
      },
      "source": [
        "LOG_DIR='drive/My Drive/logs/{}'.format(NAME)\n",
        "tensorboard = TensorBoard(log_dir=LOG_DIR)"
      ],
      "execution_count": 0,
      "outputs": []
    },
    {
      "cell_type": "code",
      "metadata": {
        "id": "aMVhFPnCpB0b",
        "colab_type": "code",
        "colab": {}
      },
      "source": [
        "alphabet = ['a', 'b', 'c', 'd', 'e', 'f', 'g', 'h', 'i', 'j', 'k', 'l', 'm', 'n', 'o', 'p', 'q', 'r', 's', 't', 'u', 'v', 'w', 'x', 'y', 'z']\n"
      ],
      "execution_count": 0,
      "outputs": []
    },
    {
      "cell_type": "code",
      "metadata": {
        "id": "Udq12_aEpFs5",
        "colab_type": "code",
        "colab": {}
      },
      "source": [
        "train_x = pickle.load( open( \"{}/train_x.p\".format(DATA_DIR), \"rb\" ) )\n",
        "train_y = pickle.load( open( \"{}/train_y.p\".format(DATA_DIR), \"rb\" ) )\n",
        "test_x = pickle.load( open( \"{}/test_x.p\".format(DATA_DIR), \"rb\" ) )\n",
        "test_y = pickle.load( open( \"{}/test_y.p\".format(DATA_DIR), \"rb\" ) )"
      ],
      "execution_count": 0,
      "outputs": []
    },
    {
      "cell_type": "code",
      "metadata": {
        "id": "j88VX5ebXvqk",
        "colab_type": "code",
        "colab": {}
      },
      "source": [
        "print(str(len(train_x))+ ' ' + str(len(test_x)))\n",
        "print(str(len(train_y))+ ' ' + str(len(test_y)))"
      ],
      "execution_count": 0,
      "outputs": []
    },
    {
      "cell_type": "code",
      "metadata": {
        "id": "O7aWEOn-pMsC",
        "colab_type": "code",
        "colab": {}
      },
      "source": [
        "plt.imshow(test_x[1], cmap='gray')\n",
        "print(alphabet[test_y[1]])"
      ],
      "execution_count": 0,
      "outputs": []
    },
    {
      "cell_type": "code",
      "metadata": {
        "id": "nzRSUfThYV63",
        "colab_type": "code",
        "colab": {}
      },
      "source": [
        "def resize_reshape(arr, size, mode):\n",
        "  new_array = []\n",
        "  for img in arr:\n",
        "    img = cv2.resize(img, (size, size))\n",
        "    if mode == 'canny':\n",
        "      img = cv2.Canny(img, 70, 90)\n",
        "    new_array.append(img)\n",
        "  plt.imshow(new_array[1], cmap='gray')\n",
        "  return np.array(new_array).reshape(-1, size, size, 1)"
      ],
      "execution_count": 0,
      "outputs": []
    },
    {
      "cell_type": "code",
      "metadata": {
        "id": "_GMh7T5N7Bjz",
        "colab_type": "code",
        "colab": {}
      },
      "source": [
        "train_x = resize_reshape(train_x, IMG_SIZE, MODE)\n",
        "test_x = resize_reshape(test_x, IMG_SIZE, MODE)\n",
        "train_y = np.array(train_y)\n",
        "test_y = np.array(test_y)"
      ],
      "execution_count": 0,
      "outputs": []
    },
    {
      "cell_type": "code",
      "metadata": {
        "id": "F_6hbcxhWunx",
        "colab_type": "code",
        "colab": {}
      },
      "source": [
        "train_x = train_x/255.0\n",
        "test_x = test_x/255.0"
      ],
      "execution_count": 0,
      "outputs": []
    },
    {
      "cell_type": "code",
      "metadata": {
        "id": "ERaOnYSaW0lH",
        "colab_type": "code",
        "colab": {}
      },
      "source": [
        "train_x.shape"
      ],
      "execution_count": 0,
      "outputs": []
    },
    {
      "cell_type": "markdown",
      "metadata": {
        "id": "aNo6TU1pqYpK",
        "colab_type": "text"
      },
      "source": [
        "### Defining the model\n"
      ]
    },
    {
      "cell_type": "code",
      "metadata": {
        "id": "3L5eXNSnqHxK",
        "colab_type": "code",
        "colab": {}
      },
      "source": [
        "model = Sequential()\n",
        "\n",
        "model.add(Conv2D(128, (5, 5), input_shape=train_x.shape[1:]))\n",
        "model.add(Activation('relu'))\n",
        "model.add(MaxPooling2D(pool_size=(2, 2)))\n",
        "model.add(Dropout(0.5))\n",
        "\n",
        "model.add(Conv2D(256, (3, 3)))\n",
        "model.add(Activation('relu'))\n",
        "model.add(MaxPooling2D(pool_size=(2, 2)))\n",
        "\n",
        "model.add(Conv2D(512, (3, 3)))\n",
        "model.add(Activation('relu'))\n",
        "model.add(MaxPooling2D(pool_size=(2, 2)))\n",
        "\n",
        "model.add(Flatten())\n",
        "\n",
        "model.add(Dense(64))\n",
        "model.add(Activation('relu'))\n",
        "\n",
        "model.add(Dense(26))\n",
        "model.add(Activation('sigmoid'))\n",
        "\n",
        "model.compile(loss='sparse_categorical_crossentropy',\n",
        "              optimizer='adam',\n",
        "              metrics=['accuracy'])"
      ],
      "execution_count": 0,
      "outputs": []
    },
    {
      "cell_type": "code",
      "metadata": {
        "id": "FOuvcWJJ4bkC",
        "colab_type": "code",
        "colab": {}
      },
      "source": [
        "model.summary()"
      ],
      "execution_count": 0,
      "outputs": []
    },
    {
      "cell_type": "markdown",
      "metadata": {
        "id": "HxNg4Kv6rCOK",
        "colab_type": "text"
      },
      "source": [
        "### Training the model"
      ]
    },
    {
      "cell_type": "code",
      "metadata": {
        "id": "61k3LSd4qSXX",
        "colab_type": "code",
        "colab": {}
      },
      "source": [
        "history = model.fit(train_x, train_y, batch_size=5, epochs=10, validation_split=0.1, callbacks=[tensorboard])"
      ],
      "execution_count": 0,
      "outputs": []
    },
    {
      "cell_type": "code",
      "metadata": {
        "id": "xCvCCa3UfNdd",
        "colab_type": "code",
        "colab": {}
      },
      "source": [
        "loss = history.history['loss']\n",
        "val_loss = history.history['val_loss']\n",
        "epochs = range(1, len(loss) + 1)\n",
        "plt.plot(epochs, loss, 'y', label='Training loss')\n",
        "plt.plot(epochs, val_loss, 'r', label='Validation loss')\n",
        "plt.title('Training and validation loss')\n",
        "plt.xlabel('Epochs')\n",
        "plt.ylabel('Loss')\n",
        "plt.legend()\n",
        "plt.show()"
      ],
      "execution_count": 0,
      "outputs": []
    },
    {
      "cell_type": "code",
      "metadata": {
        "id": "wkaYGrHEfydG",
        "colab_type": "code",
        "colab": {}
      },
      "source": [
        "acc = history.history['acc']\n",
        "val_acc = history.history['val_acc']\n",
        "epochs = range(1, len(loss) + 1)\n",
        "plt.plot(epochs, acc, 'y', label='Training acc')\n",
        "plt.plot(epochs, val_acc, 'r', label='Validation acc')\n",
        "plt.title('Training and validation accuracy')\n",
        "plt.xlabel('Epochs')\n",
        "plt.ylabel('Loss')\n",
        "plt.legend()\n",
        "plt.show()"
      ],
      "execution_count": 0,
      "outputs": []
    },
    {
      "cell_type": "code",
      "metadata": {
        "id": "HACD0YA5LaZx",
        "colab_type": "code",
        "colab": {}
      },
      "source": [
        "model.evaluate(test_x, test_y)"
      ],
      "execution_count": 0,
      "outputs": []
    },
    {
      "cell_type": "markdown",
      "metadata": {
        "id": "pZ5rap_brL1q",
        "colab_type": "text"
      },
      "source": [
        "Save the model."
      ]
    },
    {
      "cell_type": "code",
      "metadata": {
        "id": "s0iWTZZiqLbA",
        "colab_type": "code",
        "colab": {}
      },
      "source": [
        "model_name = NAME + '.model'\n",
        "model.save(model_name)\n",
        "print(NAME + '.model' + ' saved..')"
      ],
      "execution_count": 0,
      "outputs": []
    },
    {
      "cell_type": "code",
      "metadata": {
        "id": "VQ2bhoe6ln-I",
        "colab_type": "code",
        "colab": {}
      },
      "source": [
        "model.evaluate(test_x, test_y)"
      ],
      "execution_count": 0,
      "outputs": []
    }
  ]
}